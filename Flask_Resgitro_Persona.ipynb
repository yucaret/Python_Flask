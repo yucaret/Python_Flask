{
 "cells": [
  {
   "cell_type": "code",
   "execution_count": 1,
   "id": "8c7cf53e",
   "metadata": {},
   "outputs": [],
   "source": [
    "from flask import Flask, render_template, request, redirect, url_for, flash\n",
    "import psycopg2"
   ]
  },
  {
   "cell_type": "code",
   "execution_count": 2,
   "id": "f54f747f",
   "metadata": {},
   "outputs": [],
   "source": [
    "app =  Flask(__name__)"
   ]
  },
  {
   "cell_type": "markdown",
   "id": "36376ba5",
   "metadata": {},
   "source": [
    "## Conexion a Base de Datos"
   ]
  },
  {
   "cell_type": "code",
   "execution_count": 3,
   "id": "e8df8afc",
   "metadata": {},
   "outputs": [],
   "source": [
    "db_host = 'Instancia de Servidor AWS'\n",
    "db_database = 'Base de Datos'\n",
    "db_user = 'Usuario de Base de Datos'\n",
    "db_password = 'Contrasena de Base de Datos'\n",
    "\n",
    "def connect_postgresql():\n",
    "    \n",
    "    conn = psycopg2.connect(\n",
    "        host=db_host,\n",
    "        database=db_database,\n",
    "        user=db_user,\n",
    "        password=db_password\n",
    "    )\n",
    "    \n",
    "    return conn"
   ]
  },
  {
   "cell_type": "markdown",
   "id": "a9ff6088",
   "metadata": {},
   "source": [
    "## Settings"
   ]
  },
  {
   "cell_type": "code",
   "execution_count": 4,
   "id": "a444f516",
   "metadata": {},
   "outputs": [],
   "source": [
    "app.secret_key = 'mysecretkey'"
   ]
  },
  {
   "cell_type": "markdown",
   "id": "ca5148de",
   "metadata": {},
   "source": [
    "## Funciones de Consulta a Base de Datos"
   ]
  },
  {
   "cell_type": "code",
   "execution_count": 5,
   "id": "61942e5f",
   "metadata": {},
   "outputs": [],
   "source": [
    "def select_personas():\n",
    "    query = \"\"\"\n",
    "    SELECT idpersona, nombres, apellidopaterno, apellidomaterno, dni, celular, correo\n",
    "    FROM persona\n",
    "    \"\"\"\n",
    "\n",
    "    conn = connect_postgresql()\n",
    "    cur = conn.cursor()\n",
    "    cur.execute(query) \n",
    "    \n",
    "    list_persona = cur.fetchall()\n",
    "\n",
    "    cur.close()\n",
    "    conn.close()\n",
    "    \n",
    "    return list_persona\n",
    "\n",
    "def get_person(id):\n",
    "    query = \"\"\"\n",
    "    SELECT idpersona, nombres, apellidopaterno, apellidomaterno, dni, celular, correo\n",
    "    FROM persona\n",
    "    WHERE idpersona = {}\n",
    "    \"\"\".format(id)\n",
    "\n",
    "    conn = connect_postgresql()\n",
    "    cur = conn.cursor()\n",
    "    cur.execute(query) \n",
    "    \n",
    "    list_persona = cur.fetchall()\n",
    "\n",
    "    cur.close()\n",
    "    conn.close()\n",
    "    \n",
    "    return list_persona[0]"
   ]
  },
  {
   "cell_type": "markdown",
   "id": "059c624d",
   "metadata": {},
   "source": [
    "## Flask"
   ]
  },
  {
   "cell_type": "code",
   "execution_count": 6,
   "id": "8279d474",
   "metadata": {},
   "outputs": [],
   "source": [
    "@app.route('/')\n",
    "\n",
    "def index():\n",
    "    \n",
    "    data = select_personas()\n",
    "\n",
    "    return render_template('index.html', personas = data)"
   ]
  },
  {
   "cell_type": "code",
   "execution_count": 7,
   "id": "b005776f",
   "metadata": {},
   "outputs": [],
   "source": [
    "@app.route('/add_person', methods=['POST'])\n",
    "\n",
    "def add_person():\n",
    "    \n",
    "    try:\n",
    "        \n",
    "        if request.method == 'POST':\n",
    "            nombres = request.form['nombres']\n",
    "            apellidopaterno = request.form['apellidopaterno']\n",
    "            apellidomaterno = request.form['apellidomaterno']\n",
    "            dni = request.form['dni']\n",
    "            celular = request.form['celular']\n",
    "            correo = request.form['correo']\n",
    "        \n",
    "            query = \"\"\"INSERT INTO persona (\n",
    "                            idpersona,\n",
    "                            nombres,\n",
    "                            apellidopaterno,\n",
    "                            apellidomaterno,\n",
    "                            dni,\n",
    "                            celular,\n",
    "                            correo) \n",
    "                    VALUES (DEFAULT, '{}', '{}','{}','{}','{}','{}')\"\"\".format(nombres,\n",
    "                                                                               apellidopaterno,\n",
    "                                                                               apellidomaterno,\n",
    "                                                                               dni,\n",
    "                                                                               celular,\n",
    "                                                                               correo\n",
    "                                                                              )\n",
    "            \n",
    "            # connect to the PostgreSQL server\n",
    "            conn = connect_postgresql()\n",
    "            cur = conn.cursor()\n",
    "            cur.execute(query)\n",
    "            conn.commit()\n",
    "        \n",
    "            count = cur.rowcount\n",
    "        \n",
    "            message = str(count) + \" Record inserted\"\n",
    "        \n",
    "            cur.close()\n",
    "            conn.close()\n",
    "            \n",
    "            flash(message)\n",
    "\n",
    "    except Exception as e:\n",
    "        \n",
    "        print(e)\n",
    "        \n",
    "    return redirect(url_for('index'))"
   ]
  },
  {
   "cell_type": "code",
   "execution_count": 8,
   "id": "6fe28331",
   "metadata": {},
   "outputs": [],
   "source": [
    "@app.route('/delete_person/<string:id>')\n",
    "\n",
    "def delete_person(id):\n",
    "    \n",
    "    try:\n",
    "        query = \"\"\"DELETE FROM persona WHERE idpersona = {}\"\"\".format(id)\n",
    "            \n",
    "        # connect to the PostgreSQL server\n",
    "        conn = connect_postgresql()\n",
    "        cur = conn.cursor()\n",
    "        cur.execute(query)\n",
    "        conn.commit()\n",
    "        \n",
    "        count = cur.rowcount\n",
    "        \n",
    "        message = str(count) + \" Record deleted successfully\"\n",
    "            \n",
    "        cur.close()\n",
    "        conn.close()\n",
    "            \n",
    "        flash(message)\n",
    "\n",
    "    except Exception as e:\n",
    "        \n",
    "        print(e)\n",
    "        \n",
    "    return redirect(url_for('index'))"
   ]
  },
  {
   "cell_type": "code",
   "execution_count": 9,
   "id": "18bc5c2f",
   "metadata": {},
   "outputs": [],
   "source": [
    "@app.route('/edit_person/<string:id>')\n",
    "\n",
    "def edit_person(id):\n",
    "    data = get_person(id)\n",
    "    \n",
    "    return render_template('edit-person.html', persona = data)"
   ]
  },
  {
   "cell_type": "code",
   "execution_count": 10,
   "id": "ee2eaa6b",
   "metadata": {},
   "outputs": [],
   "source": [
    "@app.route('/update_person/<string:id>', methods = ['POST'])\n",
    "\n",
    "def update_person(id):\n",
    "    \n",
    "    try:\n",
    "        \n",
    "        if request.method == 'POST':\n",
    "            \n",
    "            nombres = request.form['nombres']\n",
    "            apellidopaterno = request.form['apellidopaterno']\n",
    "            apellidomaterno = request.form['apellidomaterno']\n",
    "            dni = request.form['dni']\n",
    "            celular = request.form['celular']\n",
    "            correo = request.form['correo']\n",
    "            \n",
    "            query = \"\"\"UPDATE persona\n",
    "                       SET nombres = '{}',\n",
    "                           apellidopaterno = '{}',\n",
    "                           apellidomaterno = '{}',\n",
    "                           dni = '{}',\n",
    "                           celular = '{}',\n",
    "                           correo = '{}'\n",
    "                       WHERE idpersona = {}\"\"\".format(nombres, apellidopaterno, apellidomaterno, dni, celular, correo, id)\n",
    "            \n",
    "            # connect to the PostgreSQL server\n",
    "            conn = connect_postgresql()\n",
    "            cur = conn.cursor()\n",
    "            cur.execute(query)\n",
    "            conn.commit()\n",
    "        \n",
    "            count = cur.rowcount\n",
    "        \n",
    "            message = str(count) + \" Record updated successfully\"\n",
    "            \n",
    "            cur.close()\n",
    "            conn.close()\n",
    "            \n",
    "            flash(message)\n",
    "\n",
    "    except Exception as e:\n",
    "        \n",
    "        print(e)\n",
    "        \n",
    "    return redirect(url_for('index'))"
   ]
  },
  {
   "cell_type": "code",
   "execution_count": null,
   "id": "a0e5e165",
   "metadata": {},
   "outputs": [
    {
     "name": "stdout",
     "output_type": "stream",
     "text": [
      " * Serving Flask app \"__main__\" (lazy loading)\n",
      " * Environment: production\n",
      "\u001b[31m   WARNING: This is a development server. Do not use it in a production deployment.\u001b[0m\n",
      "\u001b[2m   Use a production WSGI server instead.\u001b[0m\n",
      " * Debug mode: off\n"
     ]
    },
    {
     "name": "stderr",
     "output_type": "stream",
     "text": [
      " * Running on http://127.0.0.1:5000/ (Press CTRL+C to quit)\n",
      "127.0.0.1 - - [10/Jul/2021 19:47:34] \"\u001b[37mGET / HTTP/1.1\u001b[0m\" 200 -\n",
      "127.0.0.1 - - [10/Jul/2021 19:47:34] \"\u001b[37mGET /static/css/main.css HTTP/1.1\u001b[0m\" 200 -\n",
      "127.0.0.1 - - [10/Jul/2021 19:47:34] \"\u001b[37mGET /static/js/main.js HTTP/1.1\u001b[0m\" 200 -\n",
      "127.0.0.1 - - [10/Jul/2021 19:48:12] \"\u001b[37mGET /edit_person/2 HTTP/1.1\u001b[0m\" 200 -\n",
      "127.0.0.1 - - [10/Jul/2021 19:48:18] \"\u001b[32mPOST /update_person/2 HTTP/1.1\u001b[0m\" 302 -\n",
      "127.0.0.1 - - [10/Jul/2021 19:48:19] \"\u001b[37mGET / HTTP/1.1\u001b[0m\" 200 -\n",
      "127.0.0.1 - - [10/Jul/2021 20:12:56] \"\u001b[32mPOST /add_person HTTP/1.1\u001b[0m\" 302 -\n",
      "127.0.0.1 - - [10/Jul/2021 20:12:57] \"\u001b[37mGET / HTTP/1.1\u001b[0m\" 200 -\n"
     ]
    }
   ],
   "source": [
    "#Ejecuta el servidor en el puerto 5000\n",
    "if __name__ == '__main__':\n",
    "    app.run()"
   ]
  }
 ],
 "metadata": {
  "kernelspec": {
   "display_name": "Python 3",
   "language": "python",
   "name": "python3"
  },
  "language_info": {
   "codemirror_mode": {
    "name": "ipython",
    "version": 3
   },
   "file_extension": ".py",
   "mimetype": "text/x-python",
   "name": "python",
   "nbconvert_exporter": "python",
   "pygments_lexer": "ipython3",
   "version": "3.7.10"
  }
 },
 "nbformat": 4,
 "nbformat_minor": 5
}
